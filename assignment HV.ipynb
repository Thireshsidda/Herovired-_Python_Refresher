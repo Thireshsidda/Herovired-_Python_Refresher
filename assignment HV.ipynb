{
 "cells": [
  {
   "cell_type": "code",
   "execution_count": 2,
   "id": "0ac07cae",
   "metadata": {},
   "outputs": [
    {
     "name": "stdout",
     "output_type": "stream",
     "text": [
      "5\n",
      "benz bmw audi toyota hyundai\n",
      "red blue green black white\n"
     ]
    }
   ],
   "source": [
    "n= int(input())\n",
    "brand_name= list(map(str,input().strip().split()))[:n]\n",
    "color= list(map(str,input().strip().split()))[:n]\n",
    "car=  dict(zip(brand_name,color))\n"
   ]
  },
  {
   "cell_type": "code",
   "execution_count": 3,
   "id": "fe70ce51",
   "metadata": {},
   "outputs": [
    {
     "data": {
      "text/plain": [
       "{'benz': 'red',\n",
       " 'bmw': 'blue',\n",
       " 'audi': 'green',\n",
       " 'toyota': 'black',\n",
       " 'hyundai': 'white'}"
      ]
     },
     "execution_count": 3,
     "metadata": {},
     "output_type": "execute_result"
    }
   ],
   "source": [
    "car"
   ]
  },
  {
   "cell_type": "code",
   "execution_count": 5,
   "id": "61a66e6a",
   "metadata": {},
   "outputs": [],
   "source": [
    "f= open('my_file.txt','w')\n",
    "f.write(str(car))\n",
    "f.close()"
   ]
  },
  {
   "cell_type": "code",
   "execution_count": 6,
   "id": "113d50c8",
   "metadata": {},
   "outputs": [
    {
     "data": {
      "text/plain": [
       "<_io.TextIOWrapper name='my_file.txt' mode='w' encoding='cp65001'>"
      ]
     },
     "execution_count": 6,
     "metadata": {},
     "output_type": "execute_result"
    }
   ],
   "source": [
    "f"
   ]
  },
  {
   "cell_type": "code",
   "execution_count": 1,
   "id": "21eafd52",
   "metadata": {},
   "outputs": [
    {
     "name": "stdout",
     "output_type": "stream",
     "text": [
      "5\n",
      "1\n",
      "2\n",
      "3\n",
      "4\n",
      "5\n",
      "15\n"
     ]
    }
   ],
   "source": [
    "n= int(input())\n",
    "l=[]\n",
    "for i in range(n):\n",
    "    while True:\n",
    "        number = int(input())\n",
    "        if number>0:\n",
    "            break\n",
    "    l.append(number)\n",
    "print(sum(l))"
   ]
  },
  {
   "cell_type": "code",
   "execution_count": 4,
   "id": "354ce52a",
   "metadata": {},
   "outputs": [],
   "source": [
    "f= open('file2.txt','w')\n",
    "f.write(str(sum(l)))\n",
    "f.close()"
   ]
  }
 ],
 "metadata": {
  "kernelspec": {
   "display_name": "Python 3 (ipykernel)",
   "language": "python",
   "name": "python3"
  },
  "language_info": {
   "codemirror_mode": {
    "name": "ipython",
    "version": 3
   },
   "file_extension": ".py",
   "mimetype": "text/x-python",
   "name": "python",
   "nbconvert_exporter": "python",
   "pygments_lexer": "ipython3",
   "version": "3.9.7"
  }
 },
 "nbformat": 4,
 "nbformat_minor": 5
}
