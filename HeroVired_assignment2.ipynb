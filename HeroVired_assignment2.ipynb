{
 "cells": [
  {
   "cell_type": "markdown",
   "id": "3b59d3eb",
   "metadata": {},
   "source": [
    "###### 1.Write a Python program on Series where the user will take some inputs, approx. 5 inputs and then it will display the power of all those inputs, taken in the first series. Sample Input - s1 -     1  4   5  6  9 ,Sample Output - s2 -  1  16  25  36  81  .\n",
    "\n",
    " "
   ]
  },
  {
   "cell_type": "code",
   "execution_count": null,
   "id": "cccc8148",
   "metadata": {},
   "outputs": [],
   "source": [
    "import pandas as pd\n",
    "file1 = open('hi.txt','a')\n",
    "ele = int(input(\"Elements in a list:\"))\n",
    "num = list(map(int,input(\"\\nEnter the numbers : \").split()))\n",
    "l = []\n",
    "for i in num:\n",
    "    l.append(i**2)\n",
    "Series = pd.Series( l ,index= num)\n",
    "print(Series)\n",
    "print(Series , file=file1)"
   ]
  },
  {
   "cell_type": "code",
   "execution_count": null,
   "id": "b12239a7",
   "metadata": {},
   "outputs": [],
   "source": []
  },
  {
   "cell_type": "code",
   "execution_count": null,
   "id": "4c00327f",
   "metadata": {},
   "outputs": [],
   "source": []
  },
  {
   "cell_type": "markdown",
   "id": "c80bb015",
   "metadata": {},
   "source": [
    "#### 2. Write a Python program on Series where we need to perform arithmetic operations (+, -, *,/, and %). We can achieve this activity by using two Pandas series. While printing, first display both the series individually in the console and then show the results of the arithmetic operations"
   ]
  },
  {
   "cell_type": "code",
   "execution_count": null,
   "id": "04cdf961",
   "metadata": {},
   "outputs": [],
   "source": [
    "import pandas as pd\n",
    "file1 = open('hi.txt','a')\n",
    "def add(a,b):                                          \n",
    "    return(int(a+b))\n",
    "def sub(a,b):                                      \n",
    "    return(int(a-b))\n",
    "def product(a,b):                                   \n",
    "    return(int(a*b))\n",
    "def div(a,b):                                         \n",
    "    return(int(a/b))\n",
    "def Mod(a,b):                                          \n",
    "    return(int(a%b))\n",
    "a = int(input(\" Enter the first number :\"))              \n",
    "b = int(input(\" Enter the second number :\"))            \n",
    "list1 = [f'{a} + {b}',f'{a} - {b}',f'{a} * {b}',f'{a} / {b}',f'{a} % {b}']\n",
    "list2 = []                                                  \n",
    "list2.append(add(a,b))                           \n",
    "list2.append(sub(a,b))                       \n",
    "list2.append(product(a,b))                     \n",
    "list2.append(div(a,b))                           \n",
    "list2.append(Mod(a,b))                            \n",
    "series = pd.Series(list2,index=list1)                         \n",
    "print(series)\n",
    "print(series,file= file1)  "
   ]
  },
  {
   "cell_type": "code",
   "execution_count": null,
   "id": "ab0f1343",
   "metadata": {},
   "outputs": [],
   "source": []
  },
  {
   "cell_type": "code",
   "execution_count": null,
   "id": "97344f64",
   "metadata": {},
   "outputs": [],
   "source": []
  }
 ],
 "metadata": {
  "kernelspec": {
   "display_name": "Python 3 (ipykernel)",
   "language": "python",
   "name": "python3"
  },
  "language_info": {
   "codemirror_mode": {
    "name": "ipython",
    "version": 3
   },
   "file_extension": ".py",
   "mimetype": "text/x-python",
   "name": "python",
   "nbconvert_exporter": "python",
   "pygments_lexer": "ipython3",
   "version": "3.9.7"
  }
 },
 "nbformat": 4,
 "nbformat_minor": 5
}
